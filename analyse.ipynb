{
 "cells": [
  {
   "cell_type": "markdown",
   "id": "3ab32e12",
   "metadata": {},
   "source": [
    "You have just been hired by a Digital Marketing Agency as Data Scientist. They have historical data on\n",
    "the amount of the money they invested on TV, Newspapers and Radio ads, and the corresponding sales\n",
    "they made. Consider the dataset provided through this link. Now, they wish to do it in a more informative\n",
    "way and would like you to fit a linear regression model that will predict their sales based on all the different\n",
    "ads segments above mentioned. Provide the codes for each of the following questions.\n"
   ]
  },
  {
   "cell_type": "code",
   "execution_count": 1,
   "id": "93863a7e",
   "metadata": {},
   "outputs": [
    {
     "name": "stderr",
     "output_type": "stream",
     "text": [
      "/home/student/.local/lib/python3.9/site-packages/pandas/core/arrays/masked.py:59: UserWarning: Pandas requires version '1.3.2' or newer of 'bottleneck' (version '1.2.1' currently installed).\n",
      "  from pandas.core import (\n"
     ]
    }
   ],
   "source": [
    "import pandas as pd\n",
    "import numpy as np"
   ]
  },
  {
   "cell_type": "code",
   "execution_count": 2,
   "id": "d77737c0",
   "metadata": {},
   "outputs": [],
   "source": [
    "df=pd.read_csv('https://raw.githubusercontent.com/rock-feller/Datasets_for_Education/main/data_01/Advertising.csv')"
   ]
  },
  {
   "cell_type": "code",
   "execution_count": 3,
   "id": "9b8e3ac5",
   "metadata": {
    "scrolled": true
   },
   "outputs": [],
   "source": [
    "del df['Unnamed: 0']"
   ]
  },
  {
   "cell_type": "code",
   "execution_count": 4,
   "id": "c9ce1bd8",
   "metadata": {
    "scrolled": true
   },
   "outputs": [],
   "source": [
    "#df"
   ]
  },
  {
   "cell_type": "code",
   "execution_count": 5,
   "id": "e855fe25",
   "metadata": {},
   "outputs": [
    {
     "data": {
      "text/html": [
       "<div>\n",
       "<style scoped>\n",
       "    .dataframe tbody tr th:only-of-type {\n",
       "        vertical-align: middle;\n",
       "    }\n",
       "\n",
       "    .dataframe tbody tr th {\n",
       "        vertical-align: top;\n",
       "    }\n",
       "\n",
       "    .dataframe thead th {\n",
       "        text-align: right;\n",
       "    }\n",
       "</style>\n",
       "<table border=\"1\" class=\"dataframe\">\n",
       "  <thead>\n",
       "    <tr style=\"text-align: right;\">\n",
       "      <th></th>\n",
       "      <th>ones</th>\n",
       "      <th>TV</th>\n",
       "      <th>Radio</th>\n",
       "      <th>Newspaper</th>\n",
       "      <th>Sales</th>\n",
       "    </tr>\n",
       "  </thead>\n",
       "  <tbody>\n",
       "    <tr>\n",
       "      <th>0</th>\n",
       "      <td>1.0</td>\n",
       "      <td>230.1</td>\n",
       "      <td>37.8</td>\n",
       "      <td>69.2</td>\n",
       "      <td>22.1</td>\n",
       "    </tr>\n",
       "    <tr>\n",
       "      <th>1</th>\n",
       "      <td>1.0</td>\n",
       "      <td>44.5</td>\n",
       "      <td>39.3</td>\n",
       "      <td>45.1</td>\n",
       "      <td>10.4</td>\n",
       "    </tr>\n",
       "    <tr>\n",
       "      <th>2</th>\n",
       "      <td>1.0</td>\n",
       "      <td>17.2</td>\n",
       "      <td>45.9</td>\n",
       "      <td>69.3</td>\n",
       "      <td>9.3</td>\n",
       "    </tr>\n",
       "    <tr>\n",
       "      <th>3</th>\n",
       "      <td>1.0</td>\n",
       "      <td>151.5</td>\n",
       "      <td>41.3</td>\n",
       "      <td>58.5</td>\n",
       "      <td>18.5</td>\n",
       "    </tr>\n",
       "    <tr>\n",
       "      <th>4</th>\n",
       "      <td>1.0</td>\n",
       "      <td>180.8</td>\n",
       "      <td>10.8</td>\n",
       "      <td>58.4</td>\n",
       "      <td>12.9</td>\n",
       "    </tr>\n",
       "    <tr>\n",
       "      <th>...</th>\n",
       "      <td>...</td>\n",
       "      <td>...</td>\n",
       "      <td>...</td>\n",
       "      <td>...</td>\n",
       "      <td>...</td>\n",
       "    </tr>\n",
       "    <tr>\n",
       "      <th>195</th>\n",
       "      <td>1.0</td>\n",
       "      <td>38.2</td>\n",
       "      <td>3.7</td>\n",
       "      <td>13.8</td>\n",
       "      <td>7.6</td>\n",
       "    </tr>\n",
       "    <tr>\n",
       "      <th>196</th>\n",
       "      <td>1.0</td>\n",
       "      <td>94.2</td>\n",
       "      <td>4.9</td>\n",
       "      <td>8.1</td>\n",
       "      <td>9.7</td>\n",
       "    </tr>\n",
       "    <tr>\n",
       "      <th>197</th>\n",
       "      <td>1.0</td>\n",
       "      <td>177.0</td>\n",
       "      <td>9.3</td>\n",
       "      <td>6.4</td>\n",
       "      <td>12.8</td>\n",
       "    </tr>\n",
       "    <tr>\n",
       "      <th>198</th>\n",
       "      <td>1.0</td>\n",
       "      <td>283.6</td>\n",
       "      <td>42.0</td>\n",
       "      <td>66.2</td>\n",
       "      <td>25.5</td>\n",
       "    </tr>\n",
       "    <tr>\n",
       "      <th>199</th>\n",
       "      <td>1.0</td>\n",
       "      <td>232.1</td>\n",
       "      <td>8.6</td>\n",
       "      <td>8.7</td>\n",
       "      <td>13.4</td>\n",
       "    </tr>\n",
       "  </tbody>\n",
       "</table>\n",
       "<p>200 rows × 5 columns</p>\n",
       "</div>"
      ],
      "text/plain": [
       "     ones     TV  Radio  Newspaper  Sales\n",
       "0     1.0  230.1   37.8       69.2   22.1\n",
       "1     1.0   44.5   39.3       45.1   10.4\n",
       "2     1.0   17.2   45.9       69.3    9.3\n",
       "3     1.0  151.5   41.3       58.5   18.5\n",
       "4     1.0  180.8   10.8       58.4   12.9\n",
       "..    ...    ...    ...        ...    ...\n",
       "195   1.0   38.2    3.7       13.8    7.6\n",
       "196   1.0   94.2    4.9        8.1    9.7\n",
       "197   1.0  177.0    9.3        6.4   12.8\n",
       "198   1.0  283.6   42.0       66.2   25.5\n",
       "199   1.0  232.1    8.6        8.7   13.4\n",
       "\n",
       "[200 rows x 5 columns]"
      ]
     },
     "execution_count": 5,
     "metadata": {},
     "output_type": "execute_result"
    }
   ],
   "source": [
    "df['ones']=np.ones(200)\n",
    "\n",
    "df1=df[['ones','TV','Radio','Newspaper','Sales']]\n",
    "df1"
   ]
  },
  {
   "cell_type": "code",
   "execution_count": 6,
   "id": "8fabe6b3",
   "metadata": {},
   "outputs": [
    {
     "data": {
      "text/html": [
       "<div>\n",
       "<style scoped>\n",
       "    .dataframe tbody tr th:only-of-type {\n",
       "        vertical-align: middle;\n",
       "    }\n",
       "\n",
       "    .dataframe tbody tr th {\n",
       "        vertical-align: top;\n",
       "    }\n",
       "\n",
       "    .dataframe thead th {\n",
       "        text-align: right;\n",
       "    }\n",
       "</style>\n",
       "<table border=\"1\" class=\"dataframe\">\n",
       "  <thead>\n",
       "    <tr style=\"text-align: right;\">\n",
       "      <th></th>\n",
       "      <th>ones</th>\n",
       "      <th>TV</th>\n",
       "      <th>Radio</th>\n",
       "      <th>Newspaper</th>\n",
       "      <th>Sales</th>\n",
       "    </tr>\n",
       "  </thead>\n",
       "  <tbody>\n",
       "    <tr>\n",
       "      <th>0</th>\n",
       "      <td>1.0</td>\n",
       "      <td>0.967425</td>\n",
       "      <td>0.979066</td>\n",
       "      <td>1.774493</td>\n",
       "      <td>1.548168</td>\n",
       "    </tr>\n",
       "    <tr>\n",
       "      <th>1</th>\n",
       "      <td>1.0</td>\n",
       "      <td>-1.194379</td>\n",
       "      <td>1.080097</td>\n",
       "      <td>0.667903</td>\n",
       "      <td>-0.694304</td>\n",
       "    </tr>\n",
       "    <tr>\n",
       "      <th>2</th>\n",
       "      <td>1.0</td>\n",
       "      <td>-1.512360</td>\n",
       "      <td>1.524637</td>\n",
       "      <td>1.779084</td>\n",
       "      <td>-0.905135</td>\n",
       "    </tr>\n",
       "    <tr>\n",
       "      <th>3</th>\n",
       "      <td>1.0</td>\n",
       "      <td>0.051919</td>\n",
       "      <td>1.214806</td>\n",
       "      <td>1.283185</td>\n",
       "      <td>0.858177</td>\n",
       "    </tr>\n",
       "    <tr>\n",
       "      <th>4</th>\n",
       "      <td>1.0</td>\n",
       "      <td>0.393196</td>\n",
       "      <td>-0.839507</td>\n",
       "      <td>1.278593</td>\n",
       "      <td>-0.215143</td>\n",
       "    </tr>\n",
       "    <tr>\n",
       "      <th>...</th>\n",
       "      <td>...</td>\n",
       "      <td>...</td>\n",
       "      <td>...</td>\n",
       "      <td>...</td>\n",
       "      <td>...</td>\n",
       "    </tr>\n",
       "    <tr>\n",
       "      <th>195</th>\n",
       "      <td>1.0</td>\n",
       "      <td>-1.267759</td>\n",
       "      <td>-1.317724</td>\n",
       "      <td>-0.769287</td>\n",
       "      <td>-1.230964</td>\n",
       "    </tr>\n",
       "    <tr>\n",
       "      <th>196</th>\n",
       "      <td>1.0</td>\n",
       "      <td>-0.615491</td>\n",
       "      <td>-1.236899</td>\n",
       "      <td>-1.031011</td>\n",
       "      <td>-0.828469</td>\n",
       "    </tr>\n",
       "    <tr>\n",
       "      <th>197</th>\n",
       "      <td>1.0</td>\n",
       "      <td>0.348934</td>\n",
       "      <td>-0.940539</td>\n",
       "      <td>-1.109069</td>\n",
       "      <td>-0.234310</td>\n",
       "    </tr>\n",
       "    <tr>\n",
       "      <th>198</th>\n",
       "      <td>1.0</td>\n",
       "      <td>1.590574</td>\n",
       "      <td>1.261955</td>\n",
       "      <td>1.636743</td>\n",
       "      <td>2.199827</td>\n",
       "    </tr>\n",
       "    <tr>\n",
       "      <th>199</th>\n",
       "      <td>1.0</td>\n",
       "      <td>0.990720</td>\n",
       "      <td>-0.987687</td>\n",
       "      <td>-1.003461</td>\n",
       "      <td>-0.119311</td>\n",
       "    </tr>\n",
       "  </tbody>\n",
       "</table>\n",
       "<p>200 rows × 5 columns</p>\n",
       "</div>"
      ],
      "text/plain": [
       "     ones        TV     Radio  Newspaper     Sales\n",
       "0     1.0  0.967425  0.979066   1.774493  1.548168\n",
       "1     1.0 -1.194379  1.080097   0.667903 -0.694304\n",
       "2     1.0 -1.512360  1.524637   1.779084 -0.905135\n",
       "3     1.0  0.051919  1.214806   1.283185  0.858177\n",
       "4     1.0  0.393196 -0.839507   1.278593 -0.215143\n",
       "..    ...       ...       ...        ...       ...\n",
       "195   1.0 -1.267759 -1.317724  -0.769287 -1.230964\n",
       "196   1.0 -0.615491 -1.236899  -1.031011 -0.828469\n",
       "197   1.0  0.348934 -0.940539  -1.109069 -0.234310\n",
       "198   1.0  1.590574  1.261955   1.636743  2.199827\n",
       "199   1.0  0.990720 -0.987687  -1.003461 -0.119311\n",
       "\n",
       "[200 rows x 5 columns]"
      ]
     },
     "execution_count": 6,
     "metadata": {},
     "output_type": "execute_result"
    }
   ],
   "source": [
    "means=df1.mean()\n",
    "sds=df1.std()\n",
    "\n",
    "df_scaled=(df1-means)/sds\n",
    "\n",
    "df_scaled['ones']=np.ones(200)\n",
    "\n",
    "df_scaled"
   ]
  },
  {
   "cell_type": "code",
   "execution_count": 7,
   "id": "a32f033c",
   "metadata": {},
   "outputs": [
    {
     "data": {
      "text/html": [
       "<div>\n",
       "<style scoped>\n",
       "    .dataframe tbody tr th:only-of-type {\n",
       "        vertical-align: middle;\n",
       "    }\n",
       "\n",
       "    .dataframe tbody tr th {\n",
       "        vertical-align: top;\n",
       "    }\n",
       "\n",
       "    .dataframe thead th {\n",
       "        text-align: right;\n",
       "    }\n",
       "</style>\n",
       "<table border=\"1\" class=\"dataframe\">\n",
       "  <thead>\n",
       "    <tr style=\"text-align: right;\">\n",
       "      <th></th>\n",
       "      <th>ones</th>\n",
       "      <th>TV</th>\n",
       "      <th>Radio</th>\n",
       "      <th>Newspaper</th>\n",
       "      <th>Sales</th>\n",
       "    </tr>\n",
       "  </thead>\n",
       "  <tbody>\n",
       "    <tr>\n",
       "      <th>count</th>\n",
       "      <td>200.0</td>\n",
       "      <td>2.000000e+02</td>\n",
       "      <td>2.000000e+02</td>\n",
       "      <td>2.000000e+02</td>\n",
       "      <td>2.000000e+02</td>\n",
       "    </tr>\n",
       "    <tr>\n",
       "      <th>mean</th>\n",
       "      <td>1.0</td>\n",
       "      <td>1.287859e-16</td>\n",
       "      <td>-4.263256e-16</td>\n",
       "      <td>2.309264e-16</td>\n",
       "      <td>-1.865175e-16</td>\n",
       "    </tr>\n",
       "    <tr>\n",
       "      <th>std</th>\n",
       "      <td>0.0</td>\n",
       "      <td>1.000000e+00</td>\n",
       "      <td>1.000000e+00</td>\n",
       "      <td>1.000000e+00</td>\n",
       "      <td>1.000000e+00</td>\n",
       "    </tr>\n",
       "    <tr>\n",
       "      <th>min</th>\n",
       "      <td>1.0</td>\n",
       "      <td>-1.704546e+00</td>\n",
       "      <td>-1.566936e+00</td>\n",
       "      <td>-1.389161e+00</td>\n",
       "      <td>-2.380949e+00</td>\n",
       "    </tr>\n",
       "    <tr>\n",
       "      <th>25%</th>\n",
       "      <td>1.0</td>\n",
       "      <td>-8.464055e-01</td>\n",
       "      <td>-8.950745e-01</td>\n",
       "      <td>-8.174990e-01</td>\n",
       "      <td>-6.990954e-01</td>\n",
       "    </tr>\n",
       "    <tr>\n",
       "      <th>50%</th>\n",
       "      <td>1.0</td>\n",
       "      <td>3.153601e-02</td>\n",
       "      <td>-2.451705e-02</td>\n",
       "      <td>-2.205833e-01</td>\n",
       "      <td>-2.151431e-01</td>\n",
       "    </tr>\n",
       "    <tr>\n",
       "      <th>75%</th>\n",
       "      <td>1.0</td>\n",
       "      <td>8.360974e-01</td>\n",
       "      <td>8.931886e-01</td>\n",
       "      <td>6.679027e-01</td>\n",
       "      <td>6.473461e-01</td>\n",
       "    </tr>\n",
       "    <tr>\n",
       "      <th>max</th>\n",
       "      <td>1.0</td>\n",
       "      <td>1.739664e+00</td>\n",
       "      <td>1.773849e+00</td>\n",
       "      <td>3.831556e+00</td>\n",
       "      <td>2.487323e+00</td>\n",
       "    </tr>\n",
       "  </tbody>\n",
       "</table>\n",
       "</div>"
      ],
      "text/plain": [
       "        ones            TV         Radio     Newspaper         Sales\n",
       "count  200.0  2.000000e+02  2.000000e+02  2.000000e+02  2.000000e+02\n",
       "mean     1.0  1.287859e-16 -4.263256e-16  2.309264e-16 -1.865175e-16\n",
       "std      0.0  1.000000e+00  1.000000e+00  1.000000e+00  1.000000e+00\n",
       "min      1.0 -1.704546e+00 -1.566936e+00 -1.389161e+00 -2.380949e+00\n",
       "25%      1.0 -8.464055e-01 -8.950745e-01 -8.174990e-01 -6.990954e-01\n",
       "50%      1.0  3.153601e-02 -2.451705e-02 -2.205833e-01 -2.151431e-01\n",
       "75%      1.0  8.360974e-01  8.931886e-01  6.679027e-01  6.473461e-01\n",
       "max      1.0  1.739664e+00  1.773849e+00  3.831556e+00  2.487323e+00"
      ]
     },
     "execution_count": 7,
     "metadata": {},
     "output_type": "execute_result"
    }
   ],
   "source": [
    "df_scaled.describe()"
   ]
  },
  {
   "cell_type": "code",
   "execution_count": 8,
   "id": "ac815041",
   "metadata": {},
   "outputs": [
    {
     "data": {
      "text/html": [
       "<div>\n",
       "<style scoped>\n",
       "    .dataframe tbody tr th:only-of-type {\n",
       "        vertical-align: middle;\n",
       "    }\n",
       "\n",
       "    .dataframe tbody tr th {\n",
       "        vertical-align: top;\n",
       "    }\n",
       "\n",
       "    .dataframe thead th {\n",
       "        text-align: right;\n",
       "    }\n",
       "</style>\n",
       "<table border=\"1\" class=\"dataframe\">\n",
       "  <thead>\n",
       "    <tr style=\"text-align: right;\">\n",
       "      <th></th>\n",
       "      <th>ones</th>\n",
       "      <th>TV</th>\n",
       "      <th>Radio</th>\n",
       "      <th>Newspaper</th>\n",
       "      <th>Sales</th>\n",
       "    </tr>\n",
       "  </thead>\n",
       "  <tbody>\n",
       "    <tr>\n",
       "      <th>count</th>\n",
       "      <td>200.0</td>\n",
       "      <td>2.000000e+02</td>\n",
       "      <td>2.000000e+02</td>\n",
       "      <td>2.000000e+02</td>\n",
       "      <td>2.000000e+02</td>\n",
       "    </tr>\n",
       "    <tr>\n",
       "      <th>mean</th>\n",
       "      <td>1.0</td>\n",
       "      <td>1.287859e-16</td>\n",
       "      <td>-4.263256e-16</td>\n",
       "      <td>2.309264e-16</td>\n",
       "      <td>-1.865175e-16</td>\n",
       "    </tr>\n",
       "    <tr>\n",
       "      <th>std</th>\n",
       "      <td>0.0</td>\n",
       "      <td>1.000000e+00</td>\n",
       "      <td>1.000000e+00</td>\n",
       "      <td>1.000000e+00</td>\n",
       "      <td>1.000000e+00</td>\n",
       "    </tr>\n",
       "    <tr>\n",
       "      <th>min</th>\n",
       "      <td>1.0</td>\n",
       "      <td>-1.704546e+00</td>\n",
       "      <td>-1.566936e+00</td>\n",
       "      <td>-1.389161e+00</td>\n",
       "      <td>-2.380949e+00</td>\n",
       "    </tr>\n",
       "    <tr>\n",
       "      <th>25%</th>\n",
       "      <td>1.0</td>\n",
       "      <td>-8.464055e-01</td>\n",
       "      <td>-8.950745e-01</td>\n",
       "      <td>-8.174990e-01</td>\n",
       "      <td>-6.990954e-01</td>\n",
       "    </tr>\n",
       "    <tr>\n",
       "      <th>50%</th>\n",
       "      <td>1.0</td>\n",
       "      <td>3.153601e-02</td>\n",
       "      <td>-2.451705e-02</td>\n",
       "      <td>-2.205833e-01</td>\n",
       "      <td>-2.151431e-01</td>\n",
       "    </tr>\n",
       "    <tr>\n",
       "      <th>75%</th>\n",
       "      <td>1.0</td>\n",
       "      <td>8.360974e-01</td>\n",
       "      <td>8.931886e-01</td>\n",
       "      <td>6.679027e-01</td>\n",
       "      <td>6.473461e-01</td>\n",
       "    </tr>\n",
       "    <tr>\n",
       "      <th>max</th>\n",
       "      <td>1.0</td>\n",
       "      <td>1.739664e+00</td>\n",
       "      <td>1.773849e+00</td>\n",
       "      <td>3.831556e+00</td>\n",
       "      <td>2.487323e+00</td>\n",
       "    </tr>\n",
       "  </tbody>\n",
       "</table>\n",
       "</div>"
      ],
      "text/plain": [
       "        ones            TV         Radio     Newspaper         Sales\n",
       "count  200.0  2.000000e+02  2.000000e+02  2.000000e+02  2.000000e+02\n",
       "mean     1.0  1.287859e-16 -4.263256e-16  2.309264e-16 -1.865175e-16\n",
       "std      0.0  1.000000e+00  1.000000e+00  1.000000e+00  1.000000e+00\n",
       "min      1.0 -1.704546e+00 -1.566936e+00 -1.389161e+00 -2.380949e+00\n",
       "25%      1.0 -8.464055e-01 -8.950745e-01 -8.174990e-01 -6.990954e-01\n",
       "50%      1.0  3.153601e-02 -2.451705e-02 -2.205833e-01 -2.151431e-01\n",
       "75%      1.0  8.360974e-01  8.931886e-01  6.679027e-01  6.473461e-01\n",
       "max      1.0  1.739664e+00  1.773849e+00  3.831556e+00  2.487323e+00"
      ]
     },
     "execution_count": 8,
     "metadata": {},
     "output_type": "execute_result"
    }
   ],
   "source": [
    "df_scaled.describe()"
   ]
  },
  {
   "cell_type": "markdown",
   "id": "50dceef5",
   "metadata": {},
   "source": [
    "We can see the mean is ~ 0 and standard diviation 1 so the distribution here is normal"
   ]
  },
  {
   "cell_type": "code",
   "execution_count": 9,
   "id": "4ec19e76",
   "metadata": {
    "scrolled": true
   },
   "outputs": [
    {
     "data": {
      "text/plain": [
       "5"
      ]
     },
     "execution_count": 9,
     "metadata": {},
     "output_type": "execute_result"
    }
   ],
   "source": [
    "np.linalg.matrix_rank(df_scaled)"
   ]
  },
  {
   "cell_type": "code",
   "execution_count": 10,
   "id": "0a64f2ac",
   "metadata": {},
   "outputs": [
    {
     "data": {
      "text/plain": [
       "5"
      ]
     },
     "execution_count": 10,
     "metadata": {},
     "output_type": "execute_result"
    }
   ],
   "source": [
    "np.linalg.matrix_rank(df_scaled)"
   ]
  },
  {
   "cell_type": "markdown",
   "id": "7d908459",
   "metadata": {},
   "source": [
    "we have a full rank so the matrix features are independent"
   ]
  },
  {
   "cell_type": "markdown",
   "id": "f507517a",
   "metadata": {},
   "source": [
    "###  1. Divide your data into training and test sets. Allocate 20% for the test set."
   ]
  },
  {
   "cell_type": "code",
   "execution_count": 11,
   "id": "832926d2",
   "metadata": {},
   "outputs": [],
   "source": [
    "import pandas as pd\n",
    "import numpy as np\n",
    "import matplotlib.pyplot as plt\n",
    "import seaborn as sns"
   ]
  },
  {
   "cell_type": "code",
   "execution_count": 12,
   "id": "8544d5bd",
   "metadata": {},
   "outputs": [],
   "source": [
    "from sklearn.model_selection import train_test_split\n",
    "y=df_scaled['Sales']\n",
    "X=df_scaled.drop('Sales',axis=1)\n",
    "X_train, X_test, y_train, y_test = train_test_split(X, y, random_state=0,test_size=0.2)"
   ]
  },
  {
   "cell_type": "code",
   "execution_count": 13,
   "id": "53a7d784",
   "metadata": {},
   "outputs": [
    {
     "name": "stdout",
     "output_type": "stream",
     "text": [
      "The sizes of the 20% test set are \n",
      " X_train: (160, 4) \n",
      " X_test: (40, 4) \n",
      " y_train: (160,) \n",
      " y_test (40,)\n"
     ]
    }
   ],
   "source": [
    " print('The sizes of the 20% test set are \\n X_train:', X_train.shape, '\\n X_test:', X_test.shape, '\\n y_train:',\n",
    "     y_train.shape, '\\n y_test', y_test.shape)"
   ]
  },
  {
   "cell_type": "markdown",
   "id": "aa3ccefa",
   "metadata": {},
   "source": [
    "###  2. Run a correlation matrix between the features. What do you observe?"
   ]
  },
  {
   "cell_type": "code",
   "execution_count": 14,
   "id": "e21e7ad1",
   "metadata": {},
   "outputs": [
    {
     "data": {
      "text/plain": [
       "<function matplotlib.pyplot.show(close=None, block=None)>"
      ]
     },
     "execution_count": 14,
     "metadata": {},
     "output_type": "execute_result"
    },
    {
     "data": {
      "image/png": "[encoded data removed]",
      "text/plain": [
       "<Figure size 432x288 with 2 Axes>"
      ]
     },
     "metadata": {
      "needs_background": "light"
     },
     "output_type": "display_data"
    }
   ],
   "source": [
    "matrix=df.corr().round(2)\n",
    "sns.heatmap(matrix,annot=True)\n",
    "plt.show"
   ]
  },
  {
   "cell_type": "markdown",
   "id": "7ae637cd",
   "metadata": {},
   "source": [
    "This correlation matrix share a strong correlation between TV and Sales and it is quite small  on newspaper.\n",
    "\n",
    "The features are independent, we can see that the are not strong corralation between them\n",
    "\n",
    "We see in this symmetric matrix that the we have more sales on TV and radio."
   ]
  },
  {
   "cell_type": "markdown",
   "id": "a29e6115",
   "metadata": {},
   "source": []
  },
  {
   "cell_type": "markdown",
   "id": "644c65d9",
   "metadata": {},
   "source": [
    "### 3. Could you fit a linear regression model through the normal equations? If yes, report your test accuracy using the MSE."
   ]
  },
  {
   "cell_type": "markdown",
   "id": "7bab6013",
   "metadata": {},
   "source": [
    "we have \n",
    "$$\n",
    "\\mathbf Y=\\mathbf X_{train}\\beta\n",
    "$$\n",
    "and \n",
    "$$\n",
    "\\hat \\beta =(\\mathbf X_{train}^T \\mathbf X_{train})^{-1}\\mathbf X_{train}^T \\mathbf Y\n",
    "$$\n"
   ]
  },
  {
   "cell_type": "code",
   "execution_count": 15,
   "id": "40d05633",
   "metadata": {},
   "outputs": [],
   "source": [
    "#X_train"
   ]
  },
  {
   "cell_type": "code",
   "execution_count": 16,
   "id": "2a5ea24a",
   "metadata": {
    "scrolled": false
   },
   "outputs": [
    {
     "data": {
      "text/plain": [
       "array([ 0.00277165,  0.7336385 ,  0.55915252, -0.01161034])"
      ]
     },
     "execution_count": 16,
     "metadata": {},
     "output_type": "execute_result"
    }
   ],
   "source": [
    "a=np.dot(X_train.T,X_train)##or np.matmul(x_train.T,X_train)\n",
    "b=np.linalg.inv(a)\n",
    "c=np.dot(X_train.T,y_train)\n",
    "beta=np.dot(b,c)\n",
    "beta\n",
    "#c=np.matmul()"
   ]
  },
  {
   "cell_type": "code",
   "execution_count": 17,
   "id": "8a8506f3",
   "metadata": {},
   "outputs": [],
   "source": [
    "## We compute the sales:\n",
    "X=[]\n",
    "ones=list(X_train['ones'])\n",
    "TV=list(X_train['TV'])\n",
    "Radio=list(X_train['Radio'])\n",
    "Newspaper=list(X_train['Newspaper'])\n",
    "for i in range(len(X_train)):\n",
    "    Sales=beta[0]*ones[i] +(beta[1]*TV[i] +beta[2]*Radio[i] + beta[3]*Newspaper[i])\n",
    "    X.append(Sales)\n",
    "#print(X)\n",
    "     \n"
   ]
  },
  {
   "cell_type": "code",
   "execution_count": 18,
   "id": "8c4e4d38",
   "metadata": {},
   "outputs": [
    {
     "data": {
      "text/plain": [
       "array([-0.37952116, -0.91912649,  0.20426929,  0.4475899 ,  0.5851335 ,\n",
       "       -0.1257088 , -1.96155386, -0.37103893,  0.30801463, -1.02344268,\n",
       "       -0.65367988,  1.02442544,  0.84136019,  0.24556483, -0.77094575,\n",
       "       -1.116456  ,  1.4320693 ,  0.02574854,  0.43980178, -1.01500214,\n",
       "        0.23887379, -0.29640412, -0.05771523,  0.03503093,  0.82525014,\n",
       "        0.97688949,  1.20738991,  0.66553277, -0.89603297, -0.4344418 ,\n",
       "        1.11883436, -0.7863995 ,  1.28180276,  1.73250876, -0.75490175,\n",
       "        0.59747683,  1.07899776,  0.84500878,  0.55483379,  0.83451276,\n",
       "        0.5905639 , -0.99328052, -0.78165307, -1.65518246, -2.00023955,\n",
       "        0.50045824, -0.27490471,  0.79292293, -0.43100298, -0.25426457,\n",
       "       -0.04332164, -1.34322764,  0.50316211, -0.80986999, -1.12842083,\n",
       "        0.32483526,  2.07191911, -0.60889037,  1.36648298, -0.03350595,\n",
       "       -0.64800837, -1.06489325, -0.30796952,  1.2393561 , -0.67439808,\n",
       "        0.09460313,  0.44372777,  0.60317643, -0.16096108,  0.63615726,\n",
       "        1.37783084, -1.12090604,  0.39631197,  0.19527311, -0.99805605,\n",
       "       -0.05927961,  0.4597739 , -0.85663949,  0.0646904 ,  0.76742003,\n",
       "        1.32437703, -0.94638789,  1.21082237,  1.28494703, -0.0777583 ,\n",
       "       -1.82938321,  0.7052256 , -0.39920011, -0.56136036,  1.85629981,\n",
       "       -0.39948344,  0.9448496 ,  1.31221798, -1.16256407, -1.64472883,\n",
       "        0.05393643,  0.30014425, -1.8303069 ,  0.18898478,  0.62279102,\n",
       "       -1.35712698,  0.64972887,  0.52036141, -0.23549648, -1.17421015,\n",
       "       -0.27728619,  0.07853098,  0.16433549,  1.43752467,  0.78081827,\n",
       "       -1.01854666, -0.41402008,  1.75265726, -0.75845275,  1.00224452,\n",
       "        1.15541473, -0.79752733,  1.61260694, -1.24704502,  1.0208559 ,\n",
       "        0.29879771, -0.78923949, -0.51411779, -0.55608401, -1.43318069,\n",
       "        1.13557444, -1.24250935,  1.00076607,  0.71159138,  1.78638048,\n",
       "       -0.92947709,  0.58772117, -0.72294575, -0.84468078, -0.18180008,\n",
       "       -0.27746913,  0.89159722, -0.65204862, -0.01812451,  0.25434481,\n",
       "       -0.02691589,  0.07027234,  0.85184037, -0.09208858, -0.23127026,\n",
       "        1.2374767 ,  1.53563256, -0.85301548, -0.43782311,  0.71955329,\n",
       "        0.3277143 ,  1.81401238,  0.09456904, -0.31965661,  0.13027252,\n",
       "       -0.38260345, -1.82905562, -1.43850855,  1.48947465, -1.19818049])"
      ]
     },
     "execution_count": 18,
     "metadata": {},
     "output_type": "execute_result"
    }
   ],
   "source": [
    "X_=np.array(X)\n",
    "X_"
   ]
  },
  {
   "cell_type": "code",
   "execution_count": 19,
   "id": "0fe6eed9",
   "metadata": {},
   "outputs": [
    {
     "name": "stdout",
     "output_type": "stream",
     "text": [
      "0.8593419037721722\n"
     ]
    }
   ],
   "source": [
    "from sklearn import metrics\n",
    "#test accuracy using MSE\n",
    "#MSE = metrics.mean_squared_error(y_test,X_)\n",
    "k=X_-X_.mean()\n",
    "MSE=(1/len(X_train))*(sum(k**2))\n",
    "print(MSE)"
   ]
  },
  {
   "cell_type": "markdown",
   "id": "f9727e38",
   "metadata": {},
   "source": [
    "### 4. Do the same using the least squares method, using the Stochaastic Gradient Descent rule and report your test accuracy using MSE."
   ]
  },
  {
   "cell_type": "code",
   "execution_count": 20,
   "id": "60407f15",
   "metadata": {},
   "outputs": [],
   "source": [
    "from sklearn.pipeline import make_pipeline\n",
    "from sklearn.preprocessing import StandardScaler\n",
    "from sklearn.linear_model import SGDRegressor\n",
    "import numpy as np"
   ]
  },
  {
   "cell_type": "code",
   "execution_count": 21,
   "id": "f3918a68",
   "metadata": {},
   "outputs": [
    {
     "data": {
      "text/plain": [
       "Pipeline(steps=[('standardscaler', StandardScaler()),\n",
       "                ('sgdregressor', SGDRegressor())])"
      ]
     },
     "execution_count": 21,
     "metadata": {},
     "output_type": "execute_result"
    }
   ],
   "source": [
    "#Creating Stochastic Gradient Descent for fitting the least squares\n",
    "rng = np.random.RandomState(0)\n",
    "sgd= make_pipeline(StandardScaler(),SGDRegressor())\n",
    "sgd.fit(X_train, y_train)"
   ]
  },
  {
   "cell_type": "code",
   "execution_count": 22,
   "id": "9e0c3888",
   "metadata": {},
   "outputs": [
    {
     "data": {
      "text/plain": [
       "array([-0.75590042, -1.24047414, -1.31043985,  1.90059563, -0.36316307,\n",
       "       -1.39791277, -0.2048574 ,  0.19278585, -0.58415992,  0.4207055 ,\n",
       "        1.67858724, -0.91788339, -0.67845357,  0.25640819, -0.4682715 ,\n",
       "       -0.3640177 ,  0.864608  , -0.64010067,  0.35348539,  0.59996345,\n",
       "        1.91775951, -0.8402676 ,  0.21077707, -0.30081938, -1.55884803,\n",
       "        0.20609665, -0.32969905,  1.27789786, -0.11726842, -0.92528931,\n",
       "       -0.13891304,  1.40138294,  0.78601453,  1.32908645, -1.37857327,\n",
       "       -1.4824845 , -1.13425865, -0.15469886,  0.11791467, -1.46680707])"
      ]
     },
     "execution_count": 22,
     "metadata": {},
     "output_type": "execute_result"
    }
   ],
   "source": [
    "#Predicting stochastic gradient descent\n",
    "y_predict = sgd.predict(X_test)\n",
    "y_predict"
   ]
  },
  {
   "cell_type": "code",
   "execution_count": 23,
   "id": "6501fdc0",
   "metadata": {},
   "outputs": [
    {
     "name": "stdout",
     "output_type": "stream",
     "text": [
      "0.1613608904247253\n"
     ]
    }
   ],
   "source": [
    "#Accuracy measure using MSE\n",
    "MSE = metrics.mean_squared_error(y_test, y_predict)\n",
    "print(MSE)"
   ]
  },
  {
   "cell_type": "markdown",
   "id": "06d3e2da",
   "metadata": {},
   "source": [
    "Then the means square error is 0.16"
   ]
  },
  {
   "cell_type": "code",
   "execution_count": null,
   "id": "f0adb83a",
   "metadata": {},
   "outputs": [],
   "source": []
  }
 ],
 "metadata": {
  "kernelspec": {
   "display_name": "Python 3",
   "language": "python",
   "name": "python3"
  },
  "language_info": {
   "codemirror_mode": {
    "name": "ipython",
    "version": 3
   },
   "file_extension": ".py",
   "mimetype": "text/x-python",
   "name": "python",
   "nbconvert_exporter": "python",
   "pygments_lexer": "ipython3",
   "version": "3.9.2"
  }
 },
 "nbformat": 4,
 "nbformat_minor": 5
}
